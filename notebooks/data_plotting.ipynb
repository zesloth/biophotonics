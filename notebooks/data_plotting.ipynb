{
 "cells": [
  {
   "cell_type": "markdown",
   "id": "89748a19",
   "metadata": {},
   "source": [
    "In this part, we want to analyse the data we generated. "
   ]
  },
  {
   "cell_type": "markdown",
   "id": "2629ee4c",
   "metadata": {},
   "source": [
    "# jupyter notebook basics"
   ]
  },
  {
   "cell_type": "markdown",
   "id": "a8c3554c",
   "metadata": {},
   "source": [
    "the idea behind jupyter is that you create a server on your computer (through typing jupyter notebook in your command line, which you should have already done if you are reading this).\n",
    "\n",
    "On this server, you can run interactive code. \n",
    "\n",
    "You can connect to this server through your browser. If you check the address bar on the top of your browser, you should see localhost:8888/... indicating that your browser is connecting to a location on your own machine. \n"
   ]
  },
  {
   "cell_type": "markdown",
   "id": "cc858417",
   "metadata": {},
   "source": [
    "# cell types in jupyter notebooks"
   ]
  },
  {
   "cell_type": "markdown",
   "id": "f43cf6fe",
   "metadata": {},
   "source": [
    "In jupyter notebooks, you have two different kinds of cells.\n",
    "\n",
    "The cells that you have looked at so far are called markdown cells.\n",
    "They support normal text visualisation, highlighting etc. and are useful for descriptions and for taking notes. \n",
    "\n",
    "Below, you will see interactive code cells.\n",
    "\n",
    "You can switch a markdown cell to a code cell by pressing **Esc**, and then by pressing **y**.\n",
    "\n",
    "Conversely, you can convert a code cell to a markdown cell with the button **m**.\n",
    "\n",
    "You can create new cells above (**a**) of below (**b**) the currently selected cell. "
   ]
  },
  {
   "cell_type": "markdown",
   "id": "0d3ae829",
   "metadata": {},
   "source": [
    "# executing code in jupyter notebooks"
   ]
  },
  {
   "cell_type": "markdown",
   "id": "828fba90",
   "metadata": {},
   "source": [
    "to run code in a code cell, select the cell and press either of the following\n",
    "\n",
    "- ctrl + Enter (this runs the code in the current cell)\n",
    "- shift + Enter (this runs the code in this cell and jumps to the next)\n",
    "\n",
    "When a cell is executing code, the In \\[\\]: statement at the margin should change to In \\[\\*\\]\n",
    "\n",
    "After the cell has finished executing, the star should be replaced with a number.\n",
    "\n",
    "To stop code execution in a cell that is currently running, select the cell, press **Esc** and then press **ii** (for interrupt). "
   ]
  },
  {
   "cell_type": "markdown",
   "id": "d41df910",
   "metadata": {},
   "source": [
    "Now, for the code, let's import some libraries"
   ]
  },
  {
   "cell_type": "markdown",
   "id": "6cf5fbc7",
   "metadata": {},
   "source": [
    "# imports"
   ]
  },
  {
   "cell_type": "code",
   "execution_count": 1,
   "id": "bc231d21",
   "metadata": {},
   "outputs": [],
   "source": [
    "import pandas as pd\n",
    "import matplotlib.pyplot as plt\n",
    "import numpy as np"
   ]
  },
  {
   "cell_type": "markdown",
   "id": "6f651f20",
   "metadata": {},
   "source": [
    "# file paths"
   ]
  },
  {
   "cell_type": "code",
   "execution_count": 3,
   "id": "d56f1f57",
   "metadata": {},
   "outputs": [],
   "source": [
    "# these are the files you just generated using the napari interface. \n",
    "cy3_spots = '../cy3_spots.pkl'\n",
    "cy5_spots = '../cy5_spots.pkl'\n",
    "cell_labels = '../segmentation.pkl'"
   ]
  },
  {
   "cell_type": "code",
   "execution_count": 6,
   "id": "799e0b97",
   "metadata": {},
   "outputs": [],
   "source": [
    "cells = pd.read_pickle(cell_labels)"
   ]
  },
  {
   "cell_type": "code",
   "execution_count": 7,
   "id": "3b00c54d",
   "metadata": {},
   "outputs": [
    {
     "data": {
      "text/html": [
       "<div>\n",
       "<style scoped>\n",
       "    .dataframe tbody tr th:only-of-type {\n",
       "        vertical-align: middle;\n",
       "    }\n",
       "\n",
       "    .dataframe tbody tr th {\n",
       "        vertical-align: top;\n",
       "    }\n",
       "\n",
       "    .dataframe thead th {\n",
       "        text-align: right;\n",
       "    }\n",
       "</style>\n",
       "<table border=\"1\" class=\"dataframe\">\n",
       "  <thead>\n",
       "    <tr style=\"text-align: right;\">\n",
       "      <th></th>\n",
       "      <th>cell_label</th>\n",
       "    </tr>\n",
       "  </thead>\n",
       "  <tbody>\n",
       "    <tr>\n",
       "      <th>0</th>\n",
       "      <td>1</td>\n",
       "    </tr>\n",
       "    <tr>\n",
       "      <th>1</th>\n",
       "      <td>2</td>\n",
       "    </tr>\n",
       "    <tr>\n",
       "      <th>2</th>\n",
       "      <td>3</td>\n",
       "    </tr>\n",
       "    <tr>\n",
       "      <th>3</th>\n",
       "      <td>4</td>\n",
       "    </tr>\n",
       "    <tr>\n",
       "      <th>4</th>\n",
       "      <td>5</td>\n",
       "    </tr>\n",
       "    <tr>\n",
       "      <th>...</th>\n",
       "      <td>...</td>\n",
       "    </tr>\n",
       "    <tr>\n",
       "      <th>215</th>\n",
       "      <td>216</td>\n",
       "    </tr>\n",
       "    <tr>\n",
       "      <th>216</th>\n",
       "      <td>217</td>\n",
       "    </tr>\n",
       "    <tr>\n",
       "      <th>217</th>\n",
       "      <td>218</td>\n",
       "    </tr>\n",
       "    <tr>\n",
       "      <th>218</th>\n",
       "      <td>219</td>\n",
       "    </tr>\n",
       "    <tr>\n",
       "      <th>219</th>\n",
       "      <td>220</td>\n",
       "    </tr>\n",
       "  </tbody>\n",
       "</table>\n",
       "<p>220 rows × 1 columns</p>\n",
       "</div>"
      ],
      "text/plain": [
       "     cell_label\n",
       "0             1\n",
       "1             2\n",
       "2             3\n",
       "3             4\n",
       "4             5\n",
       "..          ...\n",
       "215         216\n",
       "216         217\n",
       "217         218\n",
       "218         219\n",
       "219         220\n",
       "\n",
       "[220 rows x 1 columns]"
      ]
     },
     "execution_count": 7,
     "metadata": {},
     "output_type": "execute_result"
    }
   ],
   "source": [
    "cells"
   ]
  },
  {
   "cell_type": "markdown",
   "id": "bdd805bf",
   "metadata": {},
   "source": [
    "# cy 5 channel"
   ]
  },
  {
   "cell_type": "code",
   "execution_count": 10,
   "id": "3862bba0",
   "metadata": {},
   "outputs": [],
   "source": [
    "cy5_spots_data = pd.read_pickle(cy5_spots)"
   ]
  },
  {
   "cell_type": "code",
   "execution_count": 11,
   "id": "23b8c709",
   "metadata": {},
   "outputs": [
    {
     "data": {
      "text/html": [
       "<div>\n",
       "<style scoped>\n",
       "    .dataframe tbody tr th:only-of-type {\n",
       "        vertical-align: middle;\n",
       "    }\n",
       "\n",
       "    .dataframe tbody tr th {\n",
       "        vertical-align: top;\n",
       "    }\n",
       "\n",
       "    .dataframe thead th {\n",
       "        text-align: right;\n",
       "    }\n",
       "</style>\n",
       "<table border=\"1\" class=\"dataframe\">\n",
       "  <thead>\n",
       "    <tr style=\"text-align: right;\">\n",
       "      <th></th>\n",
       "      <th>row</th>\n",
       "      <th>column</th>\n",
       "      <th>cell_id</th>\n",
       "      <th>spot_intensities</th>\n",
       "      <th>nuclear_intensity</th>\n",
       "    </tr>\n",
       "  </thead>\n",
       "  <tbody>\n",
       "    <tr>\n",
       "      <th>0</th>\n",
       "      <td>1334</td>\n",
       "      <td>728</td>\n",
       "      <td>134</td>\n",
       "      <td>8462</td>\n",
       "      <td>23220</td>\n",
       "    </tr>\n",
       "    <tr>\n",
       "      <th>1</th>\n",
       "      <td>948</td>\n",
       "      <td>959</td>\n",
       "      <td>84</td>\n",
       "      <td>6560</td>\n",
       "      <td>17283</td>\n",
       "    </tr>\n",
       "    <tr>\n",
       "      <th>2</th>\n",
       "      <td>78</td>\n",
       "      <td>1502</td>\n",
       "      <td>5</td>\n",
       "      <td>6522</td>\n",
       "      <td>47569</td>\n",
       "    </tr>\n",
       "    <tr>\n",
       "      <th>3</th>\n",
       "      <td>647</td>\n",
       "      <td>791</td>\n",
       "      <td>59</td>\n",
       "      <td>5916</td>\n",
       "      <td>26197</td>\n",
       "    </tr>\n",
       "    <tr>\n",
       "      <th>4</th>\n",
       "      <td>1395</td>\n",
       "      <td>1438</td>\n",
       "      <td>141</td>\n",
       "      <td>5811</td>\n",
       "      <td>32817</td>\n",
       "    </tr>\n",
       "  </tbody>\n",
       "</table>\n",
       "</div>"
      ],
      "text/plain": [
       "    row  column  cell_id  spot_intensities  nuclear_intensity\n",
       "0  1334     728      134              8462              23220\n",
       "1   948     959       84              6560              17283\n",
       "2    78    1502        5              6522              47569\n",
       "3   647     791       59              5916              26197\n",
       "4  1395    1438      141              5811              32817"
      ]
     },
     "execution_count": 11,
     "metadata": {},
     "output_type": "execute_result"
    }
   ],
   "source": [
    "#inspect data \n",
    "cy5_spots_data.head()"
   ]
  },
  {
   "cell_type": "code",
   "execution_count": 5,
   "id": "6c4d84f3",
   "metadata": {},
   "outputs": [],
   "source": [
    "# plot histograms of spots per cell:"
   ]
  },
  {
   "cell_type": "markdown",
   "id": "b52c8c91",
   "metadata": {},
   "source": [
    "### cy 5 - transcripts per cell "
   ]
  },
  {
   "cell_type": "code",
   "execution_count": 25,
   "id": "d13d0d18",
   "metadata": {},
   "outputs": [
    {
     "data": {
      "image/png": "[encoded data removed]",
      "text/plain": [
       "<Figure size 640x480 with 1 Axes>"
      ]
     },
     "metadata": {},
     "output_type": "display_data"
    }
   ],
   "source": [
    "cy5_counts = (cy5_spots_data.groupby('cell_id').apply(lambda x: len(x)).to_frame()\n",
    ").merge(cells, left_index=True, right_on='cell_label', how='outer').fillna(value=0)\n",
    "\n",
    "cy5_counts.columns = ['counts','cell_label']\n",
    "\n",
    "cy5_counts['counts'].plot(kind='hist', bins=100)\n",
    "\n",
    "plt.xlabel('mRNA per cell')\n",
    "plt.ylabel('Frequency [counts]')\n",
    "# adjust bin number to better visualise distribution\n",
    "\n",
    "plt.savefig('cy5_transcripts_per_cell.png')"
   ]
  },
  {
   "cell_type": "markdown",
   "id": "b50b3a67",
   "metadata": {},
   "source": [
    "### cy5 - mRNAs per transcription site"
   ]
  },
  {
   "cell_type": "code",
   "execution_count": 26,
   "id": "2e8a91bb",
   "metadata": {},
   "outputs": [
    {
     "data": {
      "image/png": "[encoded data removed]",
      "text/plain": [
       "<Figure size 640x480 with 1 Axes>"
      ]
     },
     "metadata": {},
     "output_type": "display_data"
    }
   ],
   "source": [
    "intensities = cy5_spots_data['spot_intensities']\n",
    "mean_intensity = np.mean(intensities)\n",
    "transcription_site_threshold = 1.5 * mean_intensity\n",
    "cy5_spots_data['transcription_site_candidate'] = intensities > transcription_site_threshold\n",
    "\n",
    "# check the max projection of the DAPI channel for appropriate intensities\n",
    "# find appropriate values in napari\n",
    "nuclear_intensity_threshold = 0.8\n",
    "\n",
    "cy5_spots_data['nuclear_localisation'] = cy5_spots_data['nuclear_intensity'] > nuclear_intensity_threshold\n",
    "cy5_spots_data['transcription_sites'] = (\n",
    "    cy5_spots_data['transcription_site_candidate'] & cy5_spots_data['nuclear_localisation'])\n",
    "\n",
    "(cy5_spots_data[cy5_spots_data['transcription_sites']]['spot_intensities']/mean_intensity).plot(kind='hist')\n",
    "\n",
    "plt.savefig('cy5_mRNAs_per_transcription_site.png')"
   ]
  },
  {
   "cell_type": "markdown",
   "id": "79e29ef1",
   "metadata": {},
   "source": [
    "# cy 3 channel"
   ]
  },
  {
   "cell_type": "code",
   "execution_count": 8,
   "id": "ba531d83",
   "metadata": {},
   "outputs": [],
   "source": [
    "cy3_spots_data = pd.read_pickle(cy3_spots)"
   ]
  },
  {
   "cell_type": "code",
   "execution_count": 9,
   "id": "43261764",
   "metadata": {},
   "outputs": [
    {
     "data": {
      "text/html": [
       "<div>\n",
       "<style scoped>\n",
       "    .dataframe tbody tr th:only-of-type {\n",
       "        vertical-align: middle;\n",
       "    }\n",
       "\n",
       "    .dataframe tbody tr th {\n",
       "        vertical-align: top;\n",
       "    }\n",
       "\n",
       "    .dataframe thead th {\n",
       "        text-align: right;\n",
       "    }\n",
       "</style>\n",
       "<table border=\"1\" class=\"dataframe\">\n",
       "  <thead>\n",
       "    <tr style=\"text-align: right;\">\n",
       "      <th></th>\n",
       "      <th>row</th>\n",
       "      <th>column</th>\n",
       "      <th>cell_id</th>\n",
       "      <th>spot_intensities</th>\n",
       "      <th>nuclear_intensity</th>\n",
       "    </tr>\n",
       "  </thead>\n",
       "  <tbody>\n",
       "    <tr>\n",
       "      <th>0</th>\n",
       "      <td>671</td>\n",
       "      <td>801</td>\n",
       "      <td>50</td>\n",
       "      <td>13258</td>\n",
       "      <td>7790</td>\n",
       "    </tr>\n",
       "    <tr>\n",
       "      <th>1</th>\n",
       "      <td>877</td>\n",
       "      <td>1065</td>\n",
       "      <td>65</td>\n",
       "      <td>14326</td>\n",
       "      <td>9901</td>\n",
       "    </tr>\n",
       "    <tr>\n",
       "      <th>2</th>\n",
       "      <td>1357</td>\n",
       "      <td>517</td>\n",
       "      <td>125</td>\n",
       "      <td>10977</td>\n",
       "      <td>4914</td>\n",
       "    </tr>\n",
       "    <tr>\n",
       "      <th>3</th>\n",
       "      <td>742</td>\n",
       "      <td>329</td>\n",
       "      <td>56</td>\n",
       "      <td>10324</td>\n",
       "      <td>7123</td>\n",
       "    </tr>\n",
       "    <tr>\n",
       "      <th>4</th>\n",
       "      <td>1343</td>\n",
       "      <td>742</td>\n",
       "      <td>118</td>\n",
       "      <td>10928</td>\n",
       "      <td>11483</td>\n",
       "    </tr>\n",
       "  </tbody>\n",
       "</table>\n",
       "</div>"
      ],
      "text/plain": [
       "    row  column  cell_id  spot_intensities  nuclear_intensity\n",
       "0   671     801       50             13258               7790\n",
       "1   877    1065       65             14326               9901\n",
       "2  1357     517      125             10977               4914\n",
       "3   742     329       56             10324               7123\n",
       "4  1343     742      118             10928              11483"
      ]
     },
     "execution_count": 9,
     "metadata": {},
     "output_type": "execute_result"
    }
   ],
   "source": [
    "#inspect data \n",
    "cy3_spots_data.head()"
   ]
  },
  {
   "cell_type": "markdown",
   "id": "3a4deed0",
   "metadata": {},
   "source": [
    "### cy 3 - transcripts per cell "
   ]
  },
  {
   "cell_type": "code",
   "execution_count": 10,
   "id": "1e2643ab",
   "metadata": {},
   "outputs": [
    {
     "data": {
      "image/png": "[encoded data removed]",
      "text/plain": [
       "<Figure size 640x480 with 1 Axes>"
      ]
     },
     "metadata": {},
     "output_type": "display_data"
    }
   ],
   "source": [
    "cy3_counts = (cy3_spots_data.groupby('cell_id').apply(lambda x: len(x)).to_frame()\n",
    ").merge(cells, left_index=True, right_on='cell_label', how='outer').fillna(value=0)\n",
    "\n",
    "cy3_counts.columns = ['counts','cell_label']\n",
    "\n",
    "cy3_counts['counts'].plot(kind='hist', bins=100)\n",
    "\n",
    "plt.xlabel('mRNA per cell')\n",
    "plt.ylabel('Frequency [counts]')\n",
    "# adjust bin number to better visualise distribution\n",
    "\n",
    "plt.savefig('cy3_transcripts_per_cell.png')"
   ]
  },
  {
   "cell_type": "markdown",
   "id": "f83cd652",
   "metadata": {},
   "source": [
    "### cy3 - mRNAs per transcription site"
   ]
  },
  {
   "cell_type": "code",
   "execution_count": 11,
   "id": "c7a99475",
   "metadata": {},
   "outputs": [
    {
     "data": {
      "image/png": "[encoded data removed]",
      "text/plain": [
       "<Figure size 640x480 with 1 Axes>"
      ]
     },
     "metadata": {},
     "output_type": "display_data"
    }
   ],
   "source": [
    "intensities = cy3_spots_data['spot_intensities']\n",
    "mean_intensity = np.mean(intensities)\n",
    "transcription_site_threshold = 1.5 * mean_intensity\n",
    "cy3_spots_data['transcription_site_candidate'] = intensities > transcription_site_threshold\n",
    "\n",
    "# check the max proejction of the DAPI channel for appropriate intensities\n",
    "# find appropriate values in napari\n",
    "nuclear_intensity_threshold = 0.8\n",
    "\n",
    "cy3_spots_data['nuclear_localisation'] = cy3_spots_data['nuclear_intensity'] > nuclear_intensity_threshold\n",
    "cy3_spots_data['transcription_sites'] = (\n",
    "    cy3_spots_data['transcription_site_candidate'] & cy3_spots_data['nuclear_localisation'])\n",
    "\n",
    "(cy3_spots_data[cy3_spots_data['transcription_sites']]['spot_intensities']/mean_intensity).plot(kind='hist')\n",
    "\n",
    "plt.savefig('cy3_mRNAs_per_transcription_site.png')"
   ]
  },
  {
   "cell_type": "code",
   "execution_count": null,
   "id": "9dfe90df",
   "metadata": {},
   "outputs": [],
   "source": []
  }
 ],
 "metadata": {
  "kernelspec": {
   "display_name": "img",
   "language": "python",
   "name": "img"
  },
  "language_info": {
   "codemirror_mode": {
    "name": "ipython",
    "version": 3
   },
   "file_extension": ".py",
   "mimetype": "text/x-python",
   "name": "python",
   "nbconvert_exporter": "python",
   "pygments_lexer": "ipython3",
   "version": "3.9.13"
  }
 },
 "nbformat": 4,
 "nbformat_minor": 5
}
